{
  "nbformat": 4,
  "nbformat_minor": 0,
  "metadata": {
    "colab": {
      "provenance": [],
      "authorship_tag": "ABX9TyMz/aI4HjCVUKhW/TgavFZF",
      "include_colab_link": true
    },
    "kernelspec": {
      "name": "python3",
      "display_name": "Python 3"
    },
    "language_info": {
      "name": "python"
    }
  },
  "cells": [
    {
      "cell_type": "markdown",
      "metadata": {
        "id": "view-in-github",
        "colab_type": "text"
      },
      "source": [
        "<a href=\"https://colab.research.google.com/github/sgenjisword/.github.io/blob/main/Untitled0.ipynb\" target=\"_parent\"><img src=\"https://colab.research.google.com/assets/colab-badge.svg\" alt=\"Open In Colab\"/></a>"
      ]
    },
    {
      "cell_type": "code",
      "execution_count": 9,
      "metadata": {
        "colab": {
          "base_uri": "https://localhost:8080/"
        },
        "id": "ImGJZUXw7MuY",
        "outputId": "c67e4748-f4f9-4a6e-ddcb-1f4baf737b72"
      },
      "outputs": [
        {
          "output_type": "stream",
          "name": "stdout",
          "text": [
            "Sum of 1 thru 10 is 55\n"
          ]
        }
      ],
      "source": [
        "s = 1; n = 11\n",
        "def arithSum(s,n):\n",
        "  sum = 0\n",
        "  for i in range(n):\n",
        "    sum += i\n",
        "  return sum\n",
        "\n",
        "print(\"Sum of\", s, \"thru\", n - 1, \"is\", arithSum(s, n))"
      ]
    },
    {
      "cell_type": "code",
      "source": [
        "print('Hello!')\n",
        "print(\"Hello!\")"
      ],
      "metadata": {
        "colab": {
          "base_uri": "https://localhost:8080/"
        },
        "id": "dz3c0oVb9GVD",
        "outputId": "be43603e-8200-438f-83f4-72905a63da2b"
      },
      "execution_count": 4,
      "outputs": [
        {
          "output_type": "stream",
          "name": "stdout",
          "text": [
            "Hello!\n",
            "Hello!\n"
          ]
        }
      ]
    },
    {
      "cell_type": "code",
      "source": [
        "x = 7\n",
        "print('x is', x, \"th\")"
      ],
      "metadata": {
        "colab": {
          "base_uri": "https://localhost:8080/"
        },
        "id": "4-ZMGXFx9yR8",
        "outputId": "dc28c775-69a1-4ad5-9e8f-4b0a26a8e958"
      },
      "execution_count": 5,
      "outputs": [
        {
          "output_type": "stream",
          "name": "stdout",
          "text": [
            "x is 7 th\n"
          ]
        }
      ]
    },
    {
      "cell_type": "code",
      "source": [
        "print(\"5's element is\", end = \" \")\n",
        "print(\"TEST\")"
      ],
      "metadata": {
        "colab": {
          "base_uri": "https://localhost:8080/"
        },
        "id": "xc1d1Zzc99XJ",
        "outputId": "7d53b966-8cfd-437f-c937-8d24b218728c"
      },
      "execution_count": 6,
      "outputs": [
        {
          "output_type": "stream",
          "name": "stdout",
          "text": [
            "5's element is TEST\n"
          ]
        }
      ]
    },
    {
      "cell_type": "code",
      "source": [
        "print('MY', 'name', 'is', 'Tom')\n",
        "print('MY' 'name', 'is', 'Tom', sep = '+')"
      ],
      "metadata": {
        "colab": {
          "base_uri": "https://localhost:8080/"
        },
        "id": "luJplx_u-NIS",
        "outputId": "8c7f59ad-ae98-48d5-f485-d178d3f70bf7"
      },
      "execution_count": 7,
      "outputs": [
        {
          "output_type": "stream",
          "name": "stdout",
          "text": [
            "MY name is Tom\n",
            "MYname+is+Tom\n"
          ]
        }
      ]
    },
    {
      "cell_type": "code",
      "source": [
        "x = 77\n",
        "print(\"x is\", x, \"th\")\n",
        "print(\"x is\", x, \"th\", sep = \"\")"
      ],
      "metadata": {
        "colab": {
          "base_uri": "https://localhost:8080/"
        },
        "id": "64_wbzCo-mhq",
        "outputId": "aec46cb3-8647-439a-d3a7-785098b95803"
      },
      "execution_count": 8,
      "outputs": [
        {
          "output_type": "stream",
          "name": "stdout",
          "text": [
            "x is 77 th\n",
            "x is77th\n"
          ]
        }
      ]
    },
    {
      "cell_type": "code",
      "source": [
        "x = 5 #정수\n",
        "y = 10.5  #실수\n",
        "z = x + y\n",
        "print('z is', z)"
      ],
      "metadata": {
        "colab": {
          "base_uri": "https://localhost:8080/"
        },
        "id": "fRh6k46x_t18",
        "outputId": "d922ce02-de53-4852-a714-a1fee0ce90b3"
      },
      "execution_count": 10,
      "outputs": [
        {
          "output_type": "stream",
          "name": "stdout",
          "text": [
            "z is 15.5\n"
          ]
        }
      ]
    },
    {
      "cell_type": "code",
      "source": [
        "a = (int)(x + y)  # 타입 캐스팅\n",
        "print('a is', a)"
      ],
      "metadata": {
        "colab": {
          "base_uri": "https://localhost:8080/"
        },
        "id": "6LeO12okAETj",
        "outputId": "7b980a5e-4258-4620-e92b-270a17bbb54a"
      },
      "execution_count": 11,
      "outputs": [
        {
          "output_type": "stream",
          "name": "stdout",
          "text": [
            "a is 15\n"
          ]
        }
      ]
    },
    {
      "cell_type": "code",
      "source": [
        "x = (20 +35) %10 # 10으로 나눈 나머지\n",
        "print(x)"
      ],
      "metadata": {
        "colab": {
          "base_uri": "https://localhost:8080/"
        },
        "id": "t2rBhdIHAPJ0",
        "outputId": "71adb32f-9db3-43d6-c96a-8fbb6e5ad465"
      },
      "execution_count": 12,
      "outputs": [
        {
          "output_type": "stream",
          "name": "stdout",
          "text": [
            "5\n"
          ]
        }
      ]
    },
    {
      "cell_type": "code",
      "source": [
        "print(20/3)"
      ],
      "metadata": {
        "colab": {
          "base_uri": "https://localhost:8080/"
        },
        "id": "Y8MJCqn6AnSL",
        "outputId": "18c38653-1ff9-433a-a5e4-b1feb5d7a13c"
      },
      "execution_count": 13,
      "outputs": [
        {
          "output_type": "stream",
          "name": "stdout",
          "text": [
            "6.666666666666667\n"
          ]
        }
      ]
    },
    {
      "cell_type": "code",
      "source": [
        "print(20//3)"
      ],
      "metadata": {
        "colab": {
          "base_uri": "https://localhost:8080/"
        },
        "id": "V6g7KRz4AqiE",
        "outputId": "20a4533b-3662-4d5a-e35b-1bd4498399d8"
      },
      "execution_count": 14,
      "outputs": [
        {
          "output_type": "stream",
          "name": "stdout",
          "text": [
            "6\n"
          ]
        }
      ]
    },
    {
      "cell_type": "code",
      "source": [
        "list = ['lion', 'in', 'oil']\n",
        "print(list)"
      ],
      "metadata": {
        "colab": {
          "base_uri": "https://localhost:8080/"
        },
        "id": "pFvhaqnoAul7",
        "outputId": "872f3d78-2c76-440e-ba10-3c401c588742"
      },
      "execution_count": 16,
      "outputs": [
        {
          "output_type": "stream",
          "name": "stdout",
          "text": [
            "['lion', 'in', 'oil']\n"
          ]
        }
      ]
    },
    {
      "cell_type": "code",
      "source": [
        "print(\"5's element\")"
      ],
      "metadata": {
        "colab": {
          "base_uri": "https://localhost:8080/"
        },
        "id": "sXLEDjdXA9sL",
        "outputId": "9cbffe90-8624-4b41-d91e-edc50265d17d"
      },
      "execution_count": 19,
      "outputs": [
        {
          "output_type": "stream",
          "name": "stdout",
          "text": [
            "5's element\n"
          ]
        }
      ]
    },
    {
      "cell_type": "code",
      "source": [
        "print('5\"s element')"
      ],
      "metadata": {
        "colab": {
          "base_uri": "https://localhost:8080/"
        },
        "id": "3sAJSYfsBJyb",
        "outputId": "c120f2d8-0dbd-4de9-9a2f-3c5d1fe4838c"
      },
      "execution_count": 18,
      "outputs": [
        {
          "output_type": "stream",
          "name": "stdout",
          "text": [
            "5\"s element\n"
          ]
        }
      ]
    },
    {
      "cell_type": "code",
      "source": [
        "print('\"5\"s element\"')"
      ],
      "metadata": {
        "colab": {
          "base_uri": "https://localhost:8080/"
        },
        "id": "0n19QzUWBXi8",
        "outputId": "1e1cb3ac-3e71-41ce-e1ff-978e4bf4a1c0"
      },
      "execution_count": 20,
      "outputs": [
        {
          "output_type": "stream",
          "name": "stdout",
          "text": [
            "\"5\"s element\"\n"
          ]
        }
      ]
    },
    {
      "cell_type": "code",
      "source": [
        "print('5\\'s element \\\\ 5\\\"s element')"
      ],
      "metadata": {
        "colab": {
          "base_uri": "https://localhost:8080/"
        },
        "id": "PeBSaoEmBgPl",
        "outputId": "88e53963-1f1f-494c-90ee-573154723093"
      },
      "execution_count": 21,
      "outputs": [
        {
          "output_type": "stream",
          "name": "stdout",
          "text": [
            "5's element \\ 5\"s element\n"
          ]
        }
      ]
    },
    {
      "cell_type": "code",
      "source": [
        "for i in range(10):\n",
        "  print(i, end = ' ')"
      ],
      "metadata": {
        "colab": {
          "base_uri": "https://localhost:8080/"
        },
        "id": "nXG7Nwj0CFNE",
        "outputId": "83b22277-2a97-43f1-fb19-0f4d6cf06e4f"
      },
      "execution_count": 24,
      "outputs": [
        {
          "output_type": "stream",
          "name": "stdout",
          "text": [
            "0 1 2 3 4 5 6 7 8 9 "
          ]
        }
      ]
    },
    {
      "cell_type": "code",
      "source": [
        "for i in range(4, 10, 2): # 시작: 4, 끝: , 간격: 2\n",
        "  print(i, end = ' ')"
      ],
      "metadata": {
        "colab": {
          "base_uri": "https://localhost:8080/"
        },
        "id": "-1n5HaJ1CPOb",
        "outputId": "e57cd845-07f1-48c0-daaf-05442f822a75"
      },
      "execution_count": 25,
      "outputs": [
        {
          "output_type": "stream",
          "name": "stdout",
          "text": [
            "4 6 8 "
          ]
        }
      ]
    },
    {
      "cell_type": "code",
      "source": [
        "for i in range(10, 4, -2): # 시작: 10, 끝: , 간격: 2\n",
        "  print(i, end = ' ')"
      ],
      "metadata": {
        "colab": {
          "base_uri": "https://localhost:8080/"
        },
        "id": "Y4KEQcL9CseE",
        "outputId": "a84082dc-c993-4f5a-a397-aa9fd429274e"
      },
      "execution_count": 26,
      "outputs": [
        {
          "output_type": "stream",
          "name": "stdout",
          "text": [
            "10 8 6 "
          ]
        }
      ]
    },
    {
      "cell_type": "code",
      "source": [
        "for i in [0, 1, 2, 3]: #리스트\n",
        "  print(i, end= ' ')"
      ],
      "metadata": {
        "colab": {
          "base_uri": "https://localhost:8080/"
        },
        "id": "20pAUs8sC4wH",
        "outputId": "11573fb8-3cf1-4404-93c8-4a9d981c4b4e"
      },
      "execution_count": 27,
      "outputs": [
        {
          "output_type": "stream",
          "name": "stdout",
          "text": [
            "0 1 2 3 "
          ]
        }
      ]
    },
    {
      "cell_type": "code",
      "source": [
        "s = [0, 1, 2, 3] #리스트\n",
        "for i in s:\n",
        "  print(i, end = ' ')"
      ],
      "metadata": {
        "colab": {
          "base_uri": "https://localhost:8080/"
        },
        "id": "PWWJd1K_DGYl",
        "outputId": "22ca6a9c-e116-468b-a5a7-76219efb2712"
      },
      "execution_count": 28,
      "outputs": [
        {
          "output_type": "stream",
          "name": "stdout",
          "text": [
            "0 1 2 3 "
          ]
        }
      ]
    },
    {
      "cell_type": "code",
      "source": [
        "for i in (0, 1, 2, 3): # 튜플\n",
        "  print(i, end = ' ')"
      ],
      "metadata": {
        "colab": {
          "base_uri": "https://localhost:8080/"
        },
        "id": "laO6bv2XDSWN",
        "outputId": "2674951e-ea66-4563-b02f-e7f1b01d083f"
      },
      "execution_count": 29,
      "outputs": [
        {
          "output_type": "stream",
          "name": "stdout",
          "text": [
            "0 1 2 3 "
          ]
        }
      ]
    },
    {
      "cell_type": "code",
      "source": [
        "d = {1:10, 2:20, 3:30, 10:40} # 딕셔너리\n",
        "for i in d:\n",
        "  print(i, ':', d[i], end = ', ')"
      ],
      "metadata": {
        "colab": {
          "base_uri": "https://localhost:8080/"
        },
        "id": "EK5OBieQDdzs",
        "outputId": "d81b78ac-97a4-47f2-e149-bd1a359ecad1"
      },
      "execution_count": 30,
      "outputs": [
        {
          "output_type": "stream",
          "name": "stdout",
          "text": [
            "1 : 10, 2 : 20, 3 : 30, 10 : 40, "
          ]
        }
      ]
    },
    {
      "cell_type": "code",
      "source": [
        "for i in {1, 2, 10, 3}: #집합 (순서 개념 x)\n",
        "  print(i, end = ' ')"
      ],
      "metadata": {
        "colab": {
          "base_uri": "https://localhost:8080/"
        },
        "id": "EbLMu7exDukU",
        "outputId": "b3627f6f-02df-4dc9-c820-a6d86db5647c"
      },
      "execution_count": 31,
      "outputs": [
        {
          "output_type": "stream",
          "name": "stdout",
          "text": [
            "10 1 2 3 "
          ]
        }
      ]
    },
    {
      "cell_type": "code",
      "source": [
        "for i in {2, 10, 3, 10}: #집합 (순서 개념x)\n",
        "  print(i, end = ' ')"
      ],
      "metadata": {
        "colab": {
          "base_uri": "https://localhost:8080/"
        },
        "id": "1SepNw9zD4zU",
        "outputId": "7a288134-75f5-412f-fc65-056960292319"
      },
      "execution_count": 32,
      "outputs": [
        {
          "output_type": "stream",
          "name": "stdout",
          "text": [
            "10 2 3 "
          ]
        }
      ]
    },
    {
      "cell_type": "code",
      "source": [
        "for i in 'test seq':\n",
        "    print(i, end = '-')"
      ],
      "metadata": {
        "colab": {
          "base_uri": "https://localhost:8080/"
        },
        "id": "OuQ9neeOECfN",
        "outputId": "e3750e30-540d-4a28-b2ea-c38ab0616920"
      },
      "execution_count": 33,
      "outputs": [
        {
          "output_type": "stream",
          "name": "stdout",
          "text": [
            "t-e-s-t- -s-e-q-"
          ]
        }
      ]
    },
    {
      "cell_type": "code",
      "source": [
        "a = 3\n",
        "print(id(a)) # id(a): 변수 a의 id"
      ],
      "metadata": {
        "colab": {
          "base_uri": "https://localhost:8080/"
        },
        "id": "hzdgmFyQEQTV",
        "outputId": "21221e53-17f6-44e1-f0ca-7b409b51df71"
      },
      "execution_count": 34,
      "outputs": [
        {
          "output_type": "stream",
          "name": "stdout",
          "text": [
            "132463829664048\n"
          ]
        }
      ]
    },
    {
      "cell_type": "code",
      "source": [
        "a += 1\n",
        "print(id(a)) # id(a: 변수 a의 id)"
      ],
      "metadata": {
        "colab": {
          "base_uri": "https://localhost:8080/"
        },
        "id": "b6C7pLw9EYMk",
        "outputId": "e85e2e3f-eb8e-4f2d-d508-33402a306653"
      },
      "execution_count": 35,
      "outputs": [
        {
          "output_type": "stream",
          "name": "stdout",
          "text": [
            "132463829664080\n"
          ]
        }
      ]
    },
    {
      "cell_type": "code",
      "source": [
        "b = [1, 3, 5, 7]\n",
        "print(id(b))"
      ],
      "metadata": {
        "colab": {
          "base_uri": "https://localhost:8080/"
        },
        "id": "UBa1ooOGEf7E",
        "outputId": "f71a1b91-ece7-42f6-ee32-7875521d2197"
      },
      "execution_count": 36,
      "outputs": [
        {
          "output_type": "stream",
          "name": "stdout",
          "text": [
            "132462558409088\n"
          ]
        }
      ]
    },
    {
      "cell_type": "code",
      "source": [
        "b.append('test')\n",
        "print(id(b))"
      ],
      "metadata": {
        "colab": {
          "base_uri": "https://localhost:8080/"
        },
        "id": "2oMxI3A8EqQc",
        "outputId": "cf5e3ff4-2318-42b5-b1a1-c692cfcbacc6"
      },
      "execution_count": 37,
      "outputs": [
        {
          "output_type": "stream",
          "name": "stdout",
          "text": [
            "132462558409088\n"
          ]
        }
      ]
    },
    {
      "cell_type": "code",
      "source": [
        "s = \"test\"\n",
        "print(id(b))\n",
        "s = \"train\"\n",
        "print(id(b))"
      ],
      "metadata": {
        "colab": {
          "base_uri": "https://localhost:8080/"
        },
        "id": "SWPU5w6HEvEF",
        "outputId": "e6a3d0ee-ed00-48d7-9adf-fec7a823e920"
      },
      "execution_count": 40,
      "outputs": [
        {
          "output_type": "stream",
          "name": "stdout",
          "text": [
            "132462558409088\n",
            "132462558409088\n"
          ]
        }
      ]
    },
    {
      "cell_type": "code",
      "source": [
        "a = [1, 3, 5, 7]\n",
        "print(a)\n",
        "a[1] = 20\n",
        "print(a)"
      ],
      "metadata": {
        "colab": {
          "base_uri": "https://localhost:8080/"
        },
        "id": "Yo3csTOTF6kc",
        "outputId": "6ead3b8c-2806-4a76-c8c3-266a51c519e7"
      },
      "execution_count": 41,
      "outputs": [
        {
          "output_type": "stream",
          "name": "stdout",
          "text": [
            "[1, 3, 5, 7]\n",
            "[1, 20, 5, 7]\n"
          ]
        }
      ]
    },
    {
      "cell_type": "code",
      "source": [
        "t = (1, 3, 5, 7)\n",
        "print(t)\n",
        "t[1] = 20"
      ],
      "metadata": {
        "colab": {
          "base_uri": "https://localhost:8080/",
          "height": 239
        },
        "id": "jochxO0cGDo9",
        "outputId": "d973d1c7-d725-4cbe-8b20-e05d57a60a77"
      },
      "execution_count": 42,
      "outputs": [
        {
          "output_type": "stream",
          "name": "stdout",
          "text": [
            "(1, 3, 5, 7)\n"
          ]
        },
        {
          "output_type": "error",
          "ename": "TypeError",
          "evalue": "ignored",
          "traceback": [
            "\u001b[0;31m---------------------------------------------------------------------------\u001b[0m",
            "\u001b[0;31mTypeError\u001b[0m                                 Traceback (most recent call last)",
            "\u001b[0;32m<ipython-input-42-e4dd337ffd35>\u001b[0m in \u001b[0;36m<cell line: 3>\u001b[0;34m()\u001b[0m\n\u001b[1;32m      1\u001b[0m \u001b[0mt\u001b[0m \u001b[0;34m=\u001b[0m \u001b[0;34m(\u001b[0m\u001b[0;36m1\u001b[0m\u001b[0;34m,\u001b[0m \u001b[0;36m3\u001b[0m\u001b[0;34m,\u001b[0m \u001b[0;36m5\u001b[0m\u001b[0;34m,\u001b[0m \u001b[0;36m7\u001b[0m\u001b[0;34m)\u001b[0m\u001b[0;34m\u001b[0m\u001b[0;34m\u001b[0m\u001b[0m\n\u001b[1;32m      2\u001b[0m \u001b[0mprint\u001b[0m\u001b[0;34m(\u001b[0m\u001b[0mt\u001b[0m\u001b[0;34m)\u001b[0m\u001b[0;34m\u001b[0m\u001b[0;34m\u001b[0m\u001b[0m\n\u001b[0;32m----> 3\u001b[0;31m \u001b[0mt\u001b[0m\u001b[0;34m[\u001b[0m\u001b[0;36m1\u001b[0m\u001b[0;34m]\u001b[0m \u001b[0;34m=\u001b[0m \u001b[0;36m20\u001b[0m\u001b[0;34m\u001b[0m\u001b[0;34m\u001b[0m\u001b[0m\n\u001b[0m",
            "\u001b[0;31mTypeError\u001b[0m: 'tuple' object does not support item assignment"
          ]
        }
      ]
    },
    {
      "cell_type": "code",
      "source": [
        "d = {1:10, 3:20, 10:40}\n",
        "d[3] = 222\n",
        "d[50] = 55\n",
        "for i in d:\n",
        "  print(i, ':', d[i], end = ', ')"
      ],
      "metadata": {
        "colab": {
          "base_uri": "https://localhost:8080/"
        },
        "id": "jpATQJryGSaN",
        "outputId": "dc8c991b-733e-48da-fa26-739650ec072d"
      },
      "execution_count": 43,
      "outputs": [
        {
          "output_type": "stream",
          "name": "stdout",
          "text": [
            "1 : 10, 3 : 222, 10 : 40, 50 : 55, "
          ]
        }
      ]
    },
    {
      "cell_type": "code",
      "source": [
        "s = {1, 3, 5, 7}\n",
        "print(id(s))\n",
        "s.add(3)\n",
        "s.add(10)\n",
        "s.remove(1)\n",
        "print(id(s))\n",
        "print(s)"
      ],
      "metadata": {
        "colab": {
          "base_uri": "https://localhost:8080/"
        },
        "id": "v3_jPPXAGhXF",
        "outputId": "51f4530a-1ec2-48be-8fca-474874a55350"
      },
      "execution_count": 44,
      "outputs": [
        {
          "output_type": "stream",
          "name": "stdout",
          "text": [
            "132462557890592\n",
            "132462557890592\n",
            "{3, 5, 7, 10}\n"
          ]
        }
      ]
    },
    {
      "cell_type": "code",
      "source": [
        "def twofold(a):\n",
        "  a = 2 * a\n",
        "\n",
        "x = 5 #정수\n",
        "twofold(x)\n",
        "print(x)"
      ],
      "metadata": {
        "colab": {
          "base_uri": "https://localhost:8080/"
        },
        "id": "hJf2RkPoG3vM",
        "outputId": "fdd9281b-fc0e-4d3b-94bf-a48beeed53ff"
      },
      "execution_count": 51,
      "outputs": [
        {
          "output_type": "stream",
          "name": "stdout",
          "text": [
            "5\n"
          ]
        }
      ]
    },
    {
      "cell_type": "code",
      "source": [
        "def twofold(a):\n",
        "  a = 2 * a\n",
        "  return a\n",
        "x = 5 #정수\n",
        "x = twofold(x)\n",
        "print(x)"
      ],
      "metadata": {
        "colab": {
          "base_uri": "https://localhost:8080/"
        },
        "id": "CdMxAB-IHe89",
        "outputId": "31894609-3ae0-438f-f4f4-27d91a845b0a"
      },
      "execution_count": 52,
      "outputs": [
        {
          "output_type": "stream",
          "name": "stdout",
          "text": [
            "10\n"
          ]
        }
      ]
    },
    {
      "cell_type": "code",
      "source": [
        "def sample(a:int, b:list):\n",
        "  a = 2 * a\n",
        "  b.append('test')\n",
        "\n",
        "x = 5 #정수\n",
        "y = [1, 2] #리스트\n",
        "sample(x, y)\n",
        "print(x)\n",
        "print(y)"
      ],
      "metadata": {
        "colab": {
          "base_uri": "https://localhost:8080/"
        },
        "id": "BtVdzgY5HriI",
        "outputId": "a34ffa60-2e99-4fd7-ef42-38468e154c3e"
      },
      "execution_count": 58,
      "outputs": [
        {
          "output_type": "stream",
          "name": "stdout",
          "text": [
            "5\n",
            "[1, 2, 'test']\n"
          ]
        }
      ]
    },
    {
      "cell_type": "code",
      "source": [
        "class Sample:\n",
        "  counter2 = 0\n",
        "  def __init__(self):\n",
        "    self.counter = 0\n",
        "  def numEven(self, n):\n",
        "    for k in range(n):\n",
        "      if k % 2 == 0:\n",
        "        self.counter += 1\n",
        "        Sample.counter2 +=1\n",
        "s1 = Sample()\n",
        "s2 = Sample()\n",
        "s1.numEven(15)\n",
        "s2.numEven(15)\n",
        "print(s1.counter, s1.counter2)"
      ],
      "metadata": {
        "colab": {
          "base_uri": "https://localhost:8080/"
        },
        "id": "_TBqEm3DJnuf",
        "outputId": "f6e388b1-8641-417f-f504-a396de244bac"
      },
      "execution_count": 67,
      "outputs": [
        {
          "output_type": "stream",
          "name": "stdout",
          "text": [
            "8 16\n"
          ]
        }
      ]
    },
    {
      "cell_type": "code",
      "source": [
        "print('s' in 'east')"
      ],
      "metadata": {
        "colab": {
          "base_uri": "https://localhost:8080/"
        },
        "id": "oYyzKuEIK5QH",
        "outputId": "32b30316-b9ef-4ca2-9ad9-23cc3cd5eeba"
      },
      "execution_count": 62,
      "outputs": [
        {
          "output_type": "stream",
          "name": "stdout",
          "text": [
            "True\n"
          ]
        }
      ]
    },
    {
      "cell_type": "code",
      "source": [
        "print(77 in [10, 20, 35, 50])"
      ],
      "metadata": {
        "colab": {
          "base_uri": "https://localhost:8080/"
        },
        "id": "pVLSjS5wLAMn",
        "outputId": "8db2fe8c-803d-4e35-ae16-0dc549cc863a"
      },
      "execution_count": 63,
      "outputs": [
        {
          "output_type": "stream",
          "name": "stdout",
          "text": [
            "False\n"
          ]
        }
      ]
    },
    {
      "cell_type": "code",
      "source": [
        "for element in 'east':\n",
        "  print(element, end = '-')"
      ],
      "metadata": {
        "colab": {
          "base_uri": "https://localhost:8080/"
        },
        "id": "Jbtz8JdxLF4_",
        "outputId": "fe86a403-63f6-4cd5-df59-0784b6a2d151"
      },
      "execution_count": 64,
      "outputs": [
        {
          "output_type": "stream",
          "name": "stdout",
          "text": [
            "e-a-s-t-"
          ]
        }
      ]
    },
    {
      "cell_type": "code",
      "source": [
        "for x in {0, 1, 2, 3}:\n",
        "  print(x, end = ' ')"
      ],
      "metadata": {
        "colab": {
          "base_uri": "https://localhost:8080/"
        },
        "id": "QShhE0YnLNF_",
        "outputId": "17f4d4b5-8437-4106-9d66-ea8e936d0c1e"
      },
      "execution_count": 65,
      "outputs": [
        {
          "output_type": "stream",
          "name": "stdout",
          "text": [
            "0 1 2 3 "
          ]
        }
      ]
    }
  ]
}